{
 "cells": [
  {
   "cell_type": "code",
   "execution_count": null,
   "metadata": {},
   "outputs": [],
   "source": [
    "# Run in python 2.7+\n",
    "# Script for all sensor data\n",
    "\n",
    "import arable\n",
    "from   arable.client   import ArableClient\n",
    "import re\n",
    "from   datetime        import datetime, timedelta\n",
    "import pandas          as     pd\n",
    "from   io              import StringIO\n",
    "from   sensor_includes import email, password_ccber, tenant_ccber"
   ]
  },
  {
   "cell_type": "code",
   "execution_count": null,
   "metadata": {},
   "outputs": [],
   "source": [
    "def change(x):\n",
    "    return x.strftime(\"%Y-%m-%dT%H:%M:%SZ\")\n",
    "def changeback(x):\n",
    "    return datetime.strptime(x, \"%Y-%m-%d\")\n",
    "def tests(x):\n",
    "    return x.strftime(\"%Y-%m\")\n",
    "def ha(a, b):\n",
    "    a[0].append(change(b))\n",
    "    a[1].append(tests(b))\n",
    "    a[2].append(str(b))\n",
    "    a[3].append(tests(b))\n",
    "def haha(a, b):\n",
    "    a[0].append(str(b))\n",
    "    a[1].append(str(tests(b)))\n",
    "def hahaha(a, b):\n",
    "    for i in range(len(a)):\n",
    "        a[i].append(b[i])\n",
    "def hahahaha(a, b):\n",
    "    a[2].append(str(b))\n",
    "    a[3].append(tests(b))"
   ]
  },
  {
   "cell_type": "code",
   "execution_count": null,
   "metadata": {},
   "outputs": [],
   "source": [
    "a = ArableClient()\n",
    "a.connect(email = email, password = password_ccber, tenant = tenant_ccber)"
   ]
  },
  {
   "cell_type": "code",
   "execution_count": null,
   "metadata": {},
   "outputs": [],
   "source": [
    "device_ids     = [] # Ex. A00****\n",
    "device_names   = [] # Ex. Lagoon Ice Plants\n",
    "device_created = [] # Ex. 2019-10-10T00:00:00\n",
    "\n",
    "# The devices of interest have Z in the Location Name on the Arable website.\n",
    "# These Location Names are added to device_names.\n",
    "# The corresponding Device ID is added to device_ids.\n",
    "for i in a.devices():\n",
    "    for j in range(len(i.keys())):\n",
    "        if str(i.keys()[j]).startswith('location'):               \n",
    "            loc = str(i.values()[j])\n",
    "            loc_name = (re.split(r':', loc)[2])[3:-2]\n",
    "            if re.search(\"Z\", loc_name):\n",
    "                device_ids.append(str(i.values()[j-30]))\n",
    "                device_names.append(loc_name)\n",
    "                device_created.append(str(i.values()[j-28]))"
   ]
  },
  {
   "cell_type": "code",
   "execution_count": null,
   "metadata": {},
   "outputs": [],
   "source": [
    "# Converts each item in device_ids to a list.          \n",
    "device_ids = list(map(lambda el:[el], device_ids))"
   ]
  },
  {
   "cell_type": "code",
   "execution_count": null,
   "metadata": {},
   "outputs": [],
   "source": [
    "# This can be deleted later.\n",
    "s_month = []\n",
    "s_year  = []\n",
    "for i in device_created:\n",
    "    s_month.append(int(i[5:-19]))\n",
    "    s_year.append(int(i[:-22]))"
   ]
  },
  {
   "cell_type": "code",
   "execution_count": null,
   "metadata": {},
   "outputs": [],
   "source": [
    "dt      = datetime.now()\n",
    "\n",
    "sta_m   = []\n",
    "sta_m_f = []\n",
    "end_m   = []\n",
    "end_m_f = []\n",
    "mm      = [sta_m, sta_m_f, end_m, end_m_f]\n",
    "\n",
    "sta_y   = []\n",
    "sta_y_f = []\n",
    "end_y   = []\n",
    "end_y_f = []\n",
    "yy      = [sta_y, sta_y_f, end_y, end_y_f]"
   ]
  },
  {
   "cell_type": "code",
   "execution_count": null,
   "metadata": {},
   "outputs": [],
   "source": [
    "for j in range(len(device_created)):\n",
    "    sta_m_t   = []\n",
    "    sta_m_f_t = []\n",
    "    end_m_t   = []\n",
    "    end_m_f_t = []\n",
    "    sta_y_t   = []\n",
    "    sta_y_f_t = []\n",
    "    end_y_t   = []\n",
    "    end_y_f_t = []\n",
    "    mo = [sta_m_t, sta_m_f_t, end_m_t, end_m_f_t]\n",
    "    ye = [sta_y_t, sta_y_f_t, end_y_t, end_y_f_t]\n",
    "    s  = changeback((device_created[j])[:10])\n",
    "    haha(mo, s)\n",
    "    haha(ye, s)\n",
    "    s  = s.replace(day=1)\n",
    "    if s.year == dt.year:\n",
    "        for i in range(s.month+1, dt.month+1):\n",
    "            ha(mo, s.replace(month=i))\n",
    "    elif s.year != dt.year: \n",
    "        for i in range(dt.year-s.year):\n",
    "            for j in range(s.month+1, 13):\n",
    "                ha(mo, s.replace(month=j))\n",
    "        for i in range(s.year+1, dt.year+1):\n",
    "            x = s.replace(year=i, month=1)\n",
    "            ha(ye, x)\n",
    "            for j in range(1, dt.month+1):\n",
    "                ha(mo, x.replace(month=j)) \n",
    "    hahahaha(mo, dt)\n",
    "    hahahaha(ye, dt)\n",
    "    hahaha(mm, mo)\n",
    "    hahaha(yy, ye)"
   ]
  },
  {
   "cell_type": "code",
   "execution_count": null,
   "metadata": {},
   "outputs": [],
   "source": [
    "# Writes a .csv file for each device.\n",
    "# Hourly data is separated by month; daily data is separated by year.\n",
    "# Ex. A000***_hourly_2019-01_2019-02.csv\n",
    "def test(sta, end, i, sta_f, end_f, device):\n",
    "    for j in range(len(sta)):\n",
    "        try:\n",
    "            df = a.query(select = 'all', format = 'csv', devices = device, measure = str(i), order = \"time\", end = end[j], start = sta[j], limit = 100000000)\n",
    "            fn = str(device)[2:-2] + '_' + str(i) + '_' + str(sta_f[j]) + '_' + str(end_f[j]) + '.csv'\n",
    "            print(fn)\n",
    "            df = StringIO(df)\n",
    "            df = pd.read_csv(df, sep=',', error_bad_lines=False)\n",
    "            df = df.drop('location', 1)\n",
    "            df.to_csv(fn, sep = \",\")\n",
    "        except:\n",
    "            print('ERROR WRITING FILE')\n",
    "            continue"
   ]
  },
  {
   "cell_type": "code",
   "execution_count": null,
   "metadata": {},
   "outputs": [],
   "source": [
    "for i in range(len(device_ids)):\n",
    "    test(sta_m[i], end_m[i], \"hourly\", sta_m_f[i], end_m_f[i], device_ids[i])\n",
    "    test(sta_y[i], end_y[i], \"daily\", sta_y_f[i], end_y_f[i], device_ids[i])"
   ]
  },
  {
   "cell_type": "code",
   "execution_count": null,
   "metadata": {},
   "outputs": [],
   "source": []
  },
  {
   "cell_type": "code",
   "execution_count": null,
   "metadata": {},
   "outputs": [],
   "source": []
  },
  {
   "cell_type": "code",
   "execution_count": null,
   "metadata": {},
   "outputs": [],
   "source": []
  },
  {
   "cell_type": "code",
   "execution_count": null,
   "metadata": {},
   "outputs": [],
   "source": []
  }
 ],
 "metadata": {
  "kernelspec": {
   "display_name": "Python 2",
   "language": "python",
   "name": "python2"
  },
  "language_info": {
   "codemirror_mode": {
    "name": "ipython",
    "version": 2
   },
   "file_extension": ".py",
   "mimetype": "text/x-python",
   "name": "python",
   "nbconvert_exporter": "python",
   "pygments_lexer": "ipython2",
   "version": "2.7.15+"
  }
 },
 "nbformat": 4,
 "nbformat_minor": 2
}
