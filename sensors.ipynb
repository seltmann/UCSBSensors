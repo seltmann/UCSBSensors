{
 "cells": [
  {
   "cell_type": "code",
   "execution_count": null,
   "metadata": {},
   "outputs": [],
   "source": [
    "#run in python 2.7, not upgraded to 3.x\n",
    "#script for just one sensor data\n",
    "\n",
    "import arable\n",
    "from arable.client import ArableClient\n",
    "from datetime import datetime, timedelta\n",
    "import pandas as pd\n",
    "from io import StringIO\n",
    "import sensor_includes\n",
    "email = 'ccber-research@ucsb.edu'\n",
    "password_ccber = 'greenresearch33'\n",
    "tenant_ccber = 'ucsb'"
   ]
  },
  {
   "cell_type": "code",
   "execution_count": null,
   "metadata": {},
   "outputs": [],
   "source": [
    "a = ArableClient()\n",
    "a.connect(email, password = password_ccber, tenant = tenant_ccber)"
   ]
  },
  {
   "cell_type": "code",
   "execution_count": null,
   "metadata": {},
   "outputs": [],
   "source": [
    "device = ['A000563']"
   ]
  },
  {
   "cell_type": "code",
   "execution_count": null,
   "metadata": {},
   "outputs": [],
   "source": [
    "l = a.devices()\n",
    "device_l = []\n",
    "for s in l:\n",
    "    for i in s.values():\n",
    "        if str(i).startswith('A000'):\n",
    "            device_l.append(str(i))\n",
    "\n",
    "def listinlist(x): \n",
    "    return list(map(lambda el:[el], x))\n",
    "\n",
    "devices = listinlist(device_l)\n",
    "print(devices)"
   ]
  },
  {
   "cell_type": "code",
   "execution_count": null,
   "metadata": {},
   "outputs": [],
   "source": [
    "dt    = datetime.now()\n",
    "\n",
    "def change(x):\n",
    "    return x.strftime(\"%Y-%m-%dT%H:%M:%SZ\")\n",
    "sta = []\n",
    "end = []\n",
    "s   = datetime(2019, 1, 1, 0, 0, 0)\n",
    "ss  = change(s)\n",
    "sta.append(ss)\n",
    "\n",
    "for i in range(2, dt.month+1):\n",
    "    x = s.replace(month=i)\n",
    "    end.append(str(x))\n",
    "    x = change(x)\n",
    "    sta.append(x)\n",
    "    \n",
    "\n",
    "e = dt\n",
    "end.append(str(e))\n"
   ]
  },
  {
   "cell_type": "code",
   "execution_count": null,
   "metadata": {},
   "outputs": [],
   "source": [
    "measure_inc = [\"hourly\", \"daily\", \"calibrated\"]\n",
    "for j in range(len(sta)):\n",
    "    for l in devices:\n",
    "        for i in measure_inc:\n",
    "            try:\n",
    "                df = a.query(select = 'all',\n",
    "                format = 'csv',\n",
    "                devices = l,\n",
    "                measure = str(i),\n",
    "                order = \"time\",\n",
    "                end = end[j],\n",
    "                start = sta[j],\n",
    "                limit = 100000000)\n",
    "                print((str(l[0]) + '_' + str(i) + '_' + str(j+1) + '-' + str(j+2) + '.csv'))\n",
    "                print(str(df))\n",
    "                df = StringIO(df)\n",
    "                df = pd.read_csv(df, sep=',', error_bad_lines=False)\n",
    "                df = df.drop('location', 1)\n",
    "                df.to_csv(str('./' + str(i) + '_data/' + str(l[0]) + '_' + str(i) + '_' + str(j+1) + '-' + str(j+2) + '.csv'), sep = \",\")\n",
    "            except:\n",
    "                continue"
   ]
  },
  {
   "cell_type": "code",
   "execution_count": null,
   "metadata": {},
   "outputs": [],
   "source": []
  },
  {
   "cell_type": "code",
   "execution_count": null,
   "metadata": {},
   "outputs": [],
   "source": []
  },
  {
   "cell_type": "code",
   "execution_count": null,
   "metadata": {},
   "outputs": [],
   "source": []
  },
  {
   "cell_type": "code",
   "execution_count": null,
   "metadata": {},
   "outputs": [],
   "source": []
  }
 ],
 "metadata": {
  "kernelspec": {
   "display_name": "Python 2",
   "language": "python",
   "name": "python2"
  },
  "language_info": {
   "codemirror_mode": {
    "name": "ipython",
    "version": 3
   },
   "file_extension": ".py",
   "mimetype": "text/x-python",
   "name": "python",
   "nbconvert_exporter": "python",
   "pygments_lexer": "ipython3",
   "version": "3.7.3"
  }
 },
 "nbformat": 4,
 "nbformat_minor": 2
}
