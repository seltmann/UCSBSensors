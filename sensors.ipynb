{
 "cells": [
  {
   "cell_type": "code",
   "execution_count": 74,
   "metadata": {},
   "outputs": [],
   "source": [
    "#run in python 2.7, not upgraded to 3.x\n",
    "#script for just one sensor data\n",
    "\n",
    "import arable\n",
    "from arable.client import ArableClient\n",
    "from datetime import datetime\n",
    "import pandas as pd\n",
    "from io import StringIO\n",
    "import sensor_includes"
   ]
  },
  {
   "cell_type": "code",
   "execution_count": 75,
   "metadata": {},
   "outputs": [],
   "source": [
    "a = ArableClient()\n",
    "a.connect(email, password = password_ccber, tenant = tenant_ccber)"
   ]
  },
  {
   "cell_type": "code",
   "execution_count": 31,
   "metadata": {},
   "outputs": [],
   "source": [
    "device = ['A000563']"
   ]
  },
  {
   "cell_type": "code",
   "execution_count": 83,
   "metadata": {},
   "outputs": [
    {
     "name": "stdout",
     "output_type": "stream",
     "text": [
      "['A000513', 'A000502', 'A000507', 'A000465', 'A000546', 'A000369', 'A000229', 'A000522', 'A000536', 'A000466', 'A000318', 'A000563', 'A000514', 'A000417', 'A000461', 'A000543']\n"
     ]
    }
   ],
   "source": [
    "l = a.devices()\n",
    "device_l = []\n",
    "for s in l:\n",
    "    for i in s.values():\n",
    "        if str(i).startswith('A000'):\n",
    "            device_l.append(str(i))\n",
    "print device_l"
   ]
  },
  {
   "cell_type": "code",
   "execution_count": 17,
   "metadata": {},
   "outputs": [],
   "source": [
    "sta = \"2019-01-01 00:00:00\"\n",
    "end = datetime.now()\n",
    "end = end.strftime(\"%Y-%m-%dT%H:%M:%SZ\")"
   ]
  },
  {
   "cell_type": "code",
   "execution_count": 18,
   "metadata": {},
   "outputs": [],
   "source": [
    "df = a.query(select = 'all',\n",
    "            format = 'csv',\n",
    "            devices = device,\n",
    "            measure = \"hourly\", #daily\n",
    "            order = \"time\",\n",
    "            end = end,\n",
    "            start = sta,\n",
    "            limit = 100000000)"
   ]
  },
  {
   "cell_type": "code",
   "execution_count": 19,
   "metadata": {},
   "outputs": [],
   "source": [
    "df = StringIO(df)\n",
    "df = pd.read_csv(df, sep=',', error_bad_lines=False)\n",
    "df = df.drop('location', 1)\n",
    "df.to_csv('A000563.csv', sep = \",\")"
   ]
  },
  {
   "cell_type": "code",
   "execution_count": null,
   "metadata": {},
   "outputs": [],
   "source": []
  },
  {
   "cell_type": "code",
   "execution_count": null,
   "metadata": {},
   "outputs": [],
   "source": []
  },
  {
   "cell_type": "code",
   "execution_count": null,
   "metadata": {},
   "outputs": [],
   "source": []
  }
 ],
 "metadata": {
  "kernelspec": {
   "display_name": "Python 2",
   "language": "python",
   "name": "python2"
  },
  "language_info": {
   "codemirror_mode": {
    "name": "ipython",
    "version": 2
   },
   "file_extension": ".py",
   "mimetype": "text/x-python",
   "name": "python",
   "nbconvert_exporter": "python",
   "pygments_lexer": "ipython2",
   "version": "2.7.15+"
  }
 },
 "nbformat": 4,
 "nbformat_minor": 2
}
