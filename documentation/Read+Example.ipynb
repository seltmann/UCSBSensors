{
 "cells": [
  {
   "cell_type": "code",
   "execution_count": 1,
   "metadata": {},
   "outputs": [
    {
     "ename": "ImportError",
     "evalue": "No module named lib.physics",
     "output_type": "error",
     "traceback": [
      "\u001b[0;31m---------------------------------------------------------------------------\u001b[0m",
      "\u001b[0;31mImportError\u001b[0m                               Traceback (most recent call last)",
      "\u001b[0;32m<ipython-input-1-a2f38a10b77c>\u001b[0m in \u001b[0;36m<module>\u001b[0;34m()\u001b[0m\n\u001b[1;32m      9\u001b[0m \u001b[0;34m\u001b[0m\u001b[0m\n\u001b[1;32m     10\u001b[0m \u001b[0;32mfrom\u001b[0m \u001b[0marable\u001b[0m\u001b[0;34m.\u001b[0m\u001b[0mclient\u001b[0m \u001b[0;32mimport\u001b[0m \u001b[0mArableClient\u001b[0m\u001b[0;34m\u001b[0m\u001b[0m\n\u001b[0;32m---> 11\u001b[0;31m \u001b[0;32mfrom\u001b[0m \u001b[0mlib\u001b[0m\u001b[0;34m.\u001b[0m\u001b[0mphysics\u001b[0m \u001b[0;32mimport\u001b[0m \u001b[0;34m*\u001b[0m\u001b[0;34m\u001b[0m\u001b[0m\n\u001b[0m\u001b[1;32m     12\u001b[0m \u001b[0;34m\u001b[0m\u001b[0m\n\u001b[1;32m     13\u001b[0m \u001b[0mget_ipython\u001b[0m\u001b[0;34m(\u001b[0m\u001b[0;34m)\u001b[0m\u001b[0;34m.\u001b[0m\u001b[0mmagic\u001b[0m\u001b[0;34m(\u001b[0m\u001b[0;34mu'matplotlib inline'\u001b[0m\u001b[0;34m)\u001b[0m\u001b[0;34m\u001b[0m\u001b[0m\n",
      "\u001b[0;31mImportError\u001b[0m: No module named lib.physics"
     ]
    }
   ],
   "source": [
    "%load_ext autoreload\n",
    "%autoreload 2\n",
    "\n",
    "import pandas as pd\n",
    "import numpy as np\n",
    "import requests\n",
    "from datetime import date, datetime, timedelta\n",
    "from io import StringIO\n",
    "\n",
    "from arable.client import ArableClient\n",
    "from lib.physics import *\n",
    "\n",
    "%matplotlib inline\n",
    "import matplotlib\n",
    "import matplotlib.pyplot as plt\n",
    "\n",
    "font = {'size'   : 12}\n",
    "\n",
    "matplotlib.rc('font', **font)"
   ]
  },
  {
   "cell_type": "code",
   "execution_count": null,
   "metadata": {},
   "outputs": [],
   "source": [
    "# grab some mark data\n",
    "email = ''\n",
    "devices = 'A000563' \n",
    "a = ArableClient()\n",
    "a.connect(email, password='', tenant='')\n",
    "\n",
    "sta = \"2018-04-25 00:00:00\"\n",
    "end = datetime.now()\n",
    "end = end.strftime(\"%Y-%m-%dT%H:%M:%SZ\")\n",
    "\n",
    "df = a.query(select='all', \n",
    "               format='csv', devices=[device], \n",
    "               measure=\"hourly\", \n",
    "               order=\"time\", \n",
    "               end=end, start=sta, \n",
    "               limit=10000) \n",
    "\n",
    "df = StringIO(df)\n",
    "df = pd.read_csv(df, sep=',', error_bad_lines=False)\n",
    "\n",
    "# GPS doesn't read initially\n",
    "df = df[3:]\n",
    "\n",
    "df['time'] = pd.to_datetime(df['time'])\n",
    "df.index = df['time']\n",
    "df['doy'] = doy_(df.index)\n",
    "\n",
    "\n",
    "td = pd.to_timedelta(df.long.iloc[0]/360.*24., unit = 'h').to_pytimedelta()\n",
    "\n",
    "df['solartime'] = df.time + td\n",
    "df['solartime'] = pd.to_datetime(df['solartime'])\n",
    "df.index = df['solartime']"
   ]
  },
  {
   "cell_type": "code",
   "execution_count": 2,
   "metadata": {},
   "outputs": [
    {
     "ename": "NameError",
     "evalue": "name 'SWpot_' is not defined",
     "output_type": "error",
     "traceback": [
      "\u001b[0;31m---------------------------------------------------------------------------\u001b[0m",
      "\u001b[0;31mNameError\u001b[0m                                 Traceback (most recent call last)",
      "\u001b[0;32m<ipython-input-2-14a89e5efae0>\u001b[0m in \u001b[0;36m<module>\u001b[0;34m()\u001b[0m\n\u001b[0;32m----> 1\u001b[0;31m \u001b[0mSWP\u001b[0m \u001b[0;34m=\u001b[0m \u001b[0mSWpot_\u001b[0m\u001b[0;34m(\u001b[0m\u001b[0mdf\u001b[0m\u001b[0;34m.\u001b[0m\u001b[0mtime\u001b[0m\u001b[0;34m.\u001b[0m\u001b[0mdt\u001b[0m\u001b[0;34m,\u001b[0m \u001b[0mdf\u001b[0m\u001b[0;34m.\u001b[0m\u001b[0mlat\u001b[0m\u001b[0;34m,\u001b[0m \u001b[0mdf\u001b[0m\u001b[0;34m.\u001b[0m\u001b[0mlong\u001b[0m\u001b[0;34m)\u001b[0m\u001b[0;34m\u001b[0m\u001b[0m\n\u001b[0m\u001b[1;32m      2\u001b[0m \u001b[0;34m\u001b[0m\u001b[0m\n\u001b[1;32m      3\u001b[0m \u001b[0mdf\u001b[0m\u001b[0;34m[\u001b[0m\u001b[0;34m'k'\u001b[0m\u001b[0;34m]\u001b[0m \u001b[0;34m=\u001b[0m \u001b[0mdf\u001b[0m\u001b[0;34m.\u001b[0m\u001b[0mSWdw\u001b[0m \u001b[0;34m/\u001b[0m \u001b[0mSWP\u001b[0m\u001b[0;34m\u001b[0m\u001b[0m\n\u001b[1;32m      4\u001b[0m \u001b[0;34m\u001b[0m\u001b[0m\n\u001b[1;32m      5\u001b[0m \u001b[0mpsi\u001b[0m \u001b[0;34m=\u001b[0m \u001b[0msolar_psi_\u001b[0m\u001b[0;34m(\u001b[0m\u001b[0mdf\u001b[0m\u001b[0;34m.\u001b[0m\u001b[0mtime\u001b[0m\u001b[0;34m.\u001b[0m\u001b[0mdt\u001b[0m\u001b[0;34m,\u001b[0m \u001b[0mdf\u001b[0m\u001b[0;34m.\u001b[0m\u001b[0mlat\u001b[0m\u001b[0;34m,\u001b[0m \u001b[0mdf\u001b[0m\u001b[0;34m.\u001b[0m\u001b[0mlong\u001b[0m\u001b[0;34m)\u001b[0m \u001b[0;31m# Solar Zenith Angle\u001b[0m\u001b[0;34m\u001b[0m\u001b[0m\n",
      "\u001b[0;31mNameError\u001b[0m: name 'SWpot_' is not defined"
     ]
    }
   ],
   "source": [
    "SWP = SWpot_(df.time.dt, df.lat, df.long)\n",
    "\n",
    "df['k'] = df.SWdw / SWP\n",
    "\n",
    "psi = solar_psi_(df.time.dt, df.lat, df.long) # Solar Zenith Angle\n",
    "cospsi = np.cos(psi)\n",
    "psimax = solar_phi_(df.lat) - solar_delta_(df.time.dt, df.long)\n",
    "cospsimax = cos(psimax)\n",
    "df['cospsi'] = cospsi\n",
    "                \n",
    "df['b1r'] = df.B1uw / df.B1dw\n",
    "df['b2r'] = df.B2uw / df.B2dw\n",
    "df['b3r'] = df.B3uw / df.B3dw\n",
    "df['b4r'] = df.B4uw / df.B4dw\n",
    "df['b5r'] = df.B5uw / df.B5dw\n",
    "df['b6r'] = df.B6uw / df.B6dw\n",
    "df['b7r'] = df.B7uw / df.B7dw\n",
    "\n",
    "df['alb'] = -df.SWuw / df.SWdw"
   ]
  },
  {
   "cell_type": "code",
   "execution_count": 6,
   "metadata": {},
   "outputs": [
    {
     "ename": "NameError",
     "evalue": "name 'plt' is not defined",
     "output_type": "error",
     "traceback": [
      "\u001b[0;31m---------------------------------------------------------------------------\u001b[0m",
      "\u001b[0;31mNameError\u001b[0m                                 Traceback (most recent call last)",
      "\u001b[0;32m<ipython-input-6-5dc85e547dcd>\u001b[0m in \u001b[0;36m<module>\u001b[0;34m()\u001b[0m\n\u001b[0;32m----> 1\u001b[0;31m \u001b[0mfig\u001b[0m\u001b[0;34m,\u001b[0m \u001b[0maxes\u001b[0m \u001b[0;34m=\u001b[0m \u001b[0mplt\u001b[0m\u001b[0;34m.\u001b[0m\u001b[0msubplots\u001b[0m\u001b[0;34m(\u001b[0m\u001b[0mnrows\u001b[0m\u001b[0;34m=\u001b[0m\u001b[0;36m4\u001b[0m\u001b[0;34m,\u001b[0m \u001b[0mncols\u001b[0m\u001b[0;34m=\u001b[0m\u001b[0;36m1\u001b[0m\u001b[0;34m,\u001b[0m \u001b[0mfigsize\u001b[0m\u001b[0;34m=\u001b[0m\u001b[0;34m(\u001b[0m\u001b[0;36m12\u001b[0m\u001b[0;34m,\u001b[0m\u001b[0;36m12\u001b[0m\u001b[0;34m)\u001b[0m\u001b[0;34m)\u001b[0m\u001b[0;34m\u001b[0m\u001b[0m\n\u001b[0m\u001b[1;32m      2\u001b[0m \u001b[0;31m# Reflectances\u001b[0m\u001b[0;34m\u001b[0m\u001b[0;34m\u001b[0m\u001b[0m\n\u001b[1;32m      3\u001b[0m \u001b[0mline1\u001b[0m\u001b[0;34m,\u001b[0m \u001b[0;34m=\u001b[0m \u001b[0maxes\u001b[0m\u001b[0;34m[\u001b[0m\u001b[0;36m0\u001b[0m\u001b[0;34m]\u001b[0m\u001b[0;34m.\u001b[0m\u001b[0mplot\u001b[0m\u001b[0;34m(\u001b[0m\u001b[0mdf\u001b[0m\u001b[0;34m.\u001b[0m\u001b[0mindex\u001b[0m\u001b[0;34m,\u001b[0m \u001b[0mdf\u001b[0m\u001b[0;34m.\u001b[0m\u001b[0mb1r\u001b[0m\u001b[0;34m,\u001b[0m \u001b[0mcolor\u001b[0m\u001b[0;34m=\u001b[0m\u001b[0;34m'#270dab'\u001b[0m\u001b[0;34m,\u001b[0m \u001b[0mlabel\u001b[0m \u001b[0;34m=\u001b[0m \u001b[0;34m'b1r'\u001b[0m\u001b[0;34m)\u001b[0m\u001b[0;34m\u001b[0m\u001b[0m\n\u001b[1;32m      4\u001b[0m \u001b[0mline2\u001b[0m\u001b[0;34m,\u001b[0m \u001b[0;34m=\u001b[0m \u001b[0maxes\u001b[0m\u001b[0;34m[\u001b[0m\u001b[0;36m0\u001b[0m\u001b[0;34m]\u001b[0m\u001b[0;34m.\u001b[0m\u001b[0mplot\u001b[0m\u001b[0;34m(\u001b[0m\u001b[0mdf\u001b[0m\u001b[0;34m.\u001b[0m\u001b[0mindex\u001b[0m\u001b[0;34m,\u001b[0m \u001b[0mdf\u001b[0m\u001b[0;34m.\u001b[0m\u001b[0mb2r\u001b[0m\u001b[0;34m,\u001b[0m \u001b[0mcolor\u001b[0m\u001b[0;34m=\u001b[0m\u001b[0;34m'#0dab86'\u001b[0m\u001b[0;34m,\u001b[0m \u001b[0mlabel\u001b[0m \u001b[0;34m=\u001b[0m \u001b[0;34m'b2r'\u001b[0m\u001b[0;34m)\u001b[0m\u001b[0;34m\u001b[0m\u001b[0m\n\u001b[1;32m      5\u001b[0m \u001b[0mline3\u001b[0m\u001b[0;34m,\u001b[0m \u001b[0;34m=\u001b[0m \u001b[0maxes\u001b[0m\u001b[0;34m[\u001b[0m\u001b[0;36m0\u001b[0m\u001b[0;34m]\u001b[0m\u001b[0;34m.\u001b[0m\u001b[0mplot\u001b[0m\u001b[0;34m(\u001b[0m\u001b[0mdf\u001b[0m\u001b[0;34m.\u001b[0m\u001b[0mindex\u001b[0m\u001b[0;34m,\u001b[0m \u001b[0mdf\u001b[0m\u001b[0;34m.\u001b[0m\u001b[0mb3r\u001b[0m\u001b[0;34m,\u001b[0m \u001b[0mcolor\u001b[0m\u001b[0;34m=\u001b[0m\u001b[0;34m'#a8ab0d'\u001b[0m\u001b[0;34m,\u001b[0m \u001b[0mlabel\u001b[0m \u001b[0;34m=\u001b[0m \u001b[0;34m'b3r'\u001b[0m\u001b[0;34m)\u001b[0m\u001b[0;34m\u001b[0m\u001b[0m\n",
      "\u001b[0;31mNameError\u001b[0m: name 'plt' is not defined"
     ]
    }
   ],
   "source": [
    "fig, axes = plt.subplots(nrows=4, ncols=1, figsize=(12,12))\n",
    "# Reflectances\n",
    "line1, = axes[0].plot(df.index, df.b1r, color='#270dab', label = 'b1r')\n",
    "line2, = axes[0].plot(df.index, df.b2r, color='#0dab86', label = 'b2r')\n",
    "line3, = axes[0].plot(df.index, df.b3r, color='#a8ab0d', label = 'b3r')\n",
    "line4, = axes[0].plot(df.index, df.b4r, color='#b83400', label = 'b4r')\n",
    "line5, = axes[0].plot(df.index, df.b5r, color='#8e4629', label = 'b5r')\n",
    "line6, = axes[0].plot(df.index, df.b6r, color='#5c5c5c', label = 'b6r')\n",
    "line7, = axes[0].plot(df.index, df.b7r, color='#00c2db', label = 'b7r')\n",
    "line8, = axes[0].plot(df.index, df.alb, color='#000000', label = 'alb')\n",
    "#axes[0].legend(handles=[line1, line2, line3, line4, line5, line6, line7], loc=2)\n",
    "axes[0].set_ylabel('Reflectance: %')\n",
    "axes[0].set_ylim(0,1)\n",
    "axes[0].set_xlim(np.min(df.index),np.max(df.index))\n",
    "\n",
    "\n",
    "line1, = axes[1].plot(df.index, -df.B1uw/df.SWuw, color='#270dab', label = 'b1r')\n",
    "line2, = axes[1].plot(df.index, -df.B2uw/df.SWuw, color='#0dab86', label = 'b2r')\n",
    "line3, = axes[1].plot(df.index, -df.B3uw/df.SWuw, color='#a8ab0d', label = 'b3r')\n",
    "line4, = axes[1].plot(df.index, -df.B4uw/df.SWuw, color='#b83400', label = 'b4r')\n",
    "line5, = axes[1].plot(df.index, -df.B5uw/df.SWuw, color='#8e4629', label = 'b5r')\n",
    "line6, = axes[1].plot(df.index, -df.B6uw/df.SWuw, color='#5c5c5c', label = 'b6r')\n",
    "line7, = axes[1].plot(df.index, -df.B7uw/df.SWuw, color='#00c2db', label = 'b7r')\n",
    "#line8, = axes[1].plot(df.index, df.SWuw, color='#000000', label = 'alb')\n",
    "#axes[0].legend(handles=[line1, line2, line3, line4, line5, line6, line7], loc=2)\n",
    "axes[1].set_ylabel('Radiance')\n",
    "axes[1].set_ylim(0,0.05)\n",
    "axes[1].set_xlim(np.min(df.index),np.max(df.index))\n",
    "\n",
    "\n",
    "line1 = axes[2].scatter(df.index, df.k, s=14, c = df.time, label = 'SWP_filter')\n",
    "line1 = axes[2].plot(df.index, df.cospsi, color='#000000', label = 'SZA_filter')\n",
    "axes[2].set_ylabel('SWP and SZA')\n",
    "axes[2].set_ylim(0,1)\n",
    "axes[2].set_xlim(np.min(df.index),np.max(df.index))\n",
    "\n",
    "line1, = axes[3].plot(df.index, df['SWdw'], color='#DDDDDD', label = 'SWdw')\n",
    "line2, = axes[3].plot(df.index, SWP, color='#FF00BB', label = 'SWpot')\n",
    "axes[3].set_ylabel('SW')\n",
    "#axes[3].set_ylim(0,1)\n",
    "axes[3].set_xlim(np.min(df.index),np.max(df.index))\n"
   ]
  },
  {
   "cell_type": "code",
   "execution_count": null,
   "metadata": {
    "collapsed": true
   },
   "outputs": [],
   "source": []
  }
 ],
 "metadata": {
  "kernelspec": {
   "display_name": "Python 2",
   "language": "python",
   "name": "python2"
  },
  "language_info": {
   "codemirror_mode": {
    "name": "ipython",
    "version": 2
   },
   "file_extension": ".py",
   "mimetype": "text/x-python",
   "name": "python",
   "nbconvert_exporter": "python",
   "pygments_lexer": "ipython2",
   "version": "2.7.15+"
  }
 },
 "nbformat": 4,
 "nbformat_minor": 2
}
