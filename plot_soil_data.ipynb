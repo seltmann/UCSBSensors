{
 "cells": [
  {
   "cell_type": "code",
   "execution_count": null,
   "metadata": {},
   "outputs": [],
   "source": [
    "import arablepy\n",
    "client = arablepy.ArableClient()\n",
    "from   sensor_includes   import email, password_ccber\n",
    "client.connect(email = email, password = password_ccber)\n",
    "\n",
    "from   datetime          import timedelta\n",
    "from   datetime          import datetime\n",
    "from   io                import StringIO\n",
    "import os\n",
    "\n",
    "import re\n",
    "import matplotlib.pyplot as plt\n",
    "import numpy             as np\n",
    "import matplotlib.dates  as mdates\n",
    "import altair            as alt\n",
    "\n",
    "# register_matplotlib_converters()\n",
    "# Enable altair usage in Jupyter Notebook\n",
    "alt.renderers.enable('html')\n",
    "\n",
    "import pandas            as     pd\n",
    "from   pandas.plotting   import register_matplotlib_converters\n",
    "\n",
    "pd.options.display.max_columns = None\n",
    "pd.set_option('max_colwidth', 40)"
   ]
  },
  {
   "cell_type": "code",
   "execution_count": null,
   "metadata": {},
   "outputs": [],
   "source": [
    "data_dictionary = dict()\n",
    "available_tables = client.schema(df = False)\n",
    "available_tables\n",
    "\n",
    "# Make a dictionary of original column names (keys) and descriptive column names (values)\n",
    "# description, data_type, column_name\n",
    "for table in available_tables:\n",
    "    try:\n",
    "        table_data_dictionary = client.schema(table, df=True)\n",
    "        table_data_dictionary_columns = table_data_dictionary[\"column_name\"]\n",
    "        table_data_dictionary = table_data_dictionary.drop(\"column_name\", axis=\"columns\")\n",
    "        table_data_dictionary = table_data_dictionary.drop(\"data_type\", axis=\"columns\")\n",
    "        table_data_dictionary = table_data_dictionary.set_index(table_data_dictionary_columns)\n",
    "        table_data_dictionary = table_data_dictionary[\"description\"].to_dict()\n",
    "        data_dictionary[table] = table_data_dictionary\n",
    "    except: # HTTPError - 500 Server Error: Internal Server Error for url\n",
    "        continue\n",
    "\n",
    "\n",
    "devices = client.devices(df=True)\n",
    "device_locations = devices[\"current_location\"]\n",
    "test = dict()\n",
    "for key in list(device_locations[0].keys()):\n",
    "    try:\n",
    "        device_location_names = [i[key] for i in device_locations]\n",
    "        test[key] = device_location_names\n",
    "    except KeyError:\n",
    "        continue\n",
    "device_data = pd.DataFrame.from_dict(test)\n",
    "\n",
    "device_data = device_data[device_data[\"addr_state\"] == \"CA\"]\n",
    "\n",
    "def find_dates(index: int, option: str):\n",
    "    start = datetime.strptime(index, \"%Y-%m-%dT%H:%M:%S\")\n",
    "    end = datetime.now()\n",
    "    dates = []\n",
    "\n",
    "    for i in range(1, 12):\n",
    "        for j in [start.year, end.year]:\n",
    "            date = start.replace(year = j).replace(month = i + 1).replace(day = 1\n",
    "                   ).replace(hour = 0).replace(minute = 0).replace(second = 0)\n",
    "            if start <= date <= datetime.now():\n",
    "                dates.append(date)\n",
    "                \n",
    "    if option == \"start\":\n",
    "        dates.insert(0, start)\n",
    "    elif option == \"end\":\n",
    "        dates.insert(-1, end)\n",
    "        \n",
    "    dates = sorted([date.strftime(\"%Y-%m-%dT%H:%M:%S\") for date in dates])\n",
    "    dates = [f\"{date}Z\" for date in dates]\n",
    "    return dates"
   ]
  },
  {
   "cell_type": "code",
   "execution_count": null,
   "metadata": {},
   "outputs": [],
   "source": [
    "def VWC(df):\n",
    "    raw_VWC = df['sdi12_value_0'].to_list()\n",
    "    calc_VWC = []\n",
    "    for raw in raw_VWC:\n",
    "        raw = float(raw)\n",
    "        calc = 4.3000 * 10**(-6) * raw**(3) \n",
    "        - 5.50 * 10**(-4) * raw**(2) \n",
    "        + 2.92 * 10**(-2) * raw - 5.30 * 10**(-2)\n",
    "        calc_VWC.append(calc)\n",
    "    return calc_VWC"
   ]
  },
  {
   "cell_type": "code",
   "execution_count": null,
   "metadata": {},
   "outputs": [],
   "source": [
    "def time_and_date(df):\n",
    "    tm = df['time'].to_list()\n",
    "    date_stamp = []\n",
    "    time_stamp = []\n",
    "    for i in range(len(tm)):\n",
    "        date_stamp.append(str(tm[i])[:10])\n",
    "        time_stamp.append(str(tm[i]))\n",
    "    return date_stamp, time_stamp\n",
    "\n",
    "start_dates = []\n",
    "end_dates = []\n",
    "for i in list(device_data[\"start_date\"]):\n",
    "    try:\n",
    "        start_dates.append(find_dates_years(i[:19], \"start\"))\n",
    "        end_dates.append(find_dates_years(i[:19], \"end\"))\n",
    "    except:\n",
    "        continue"
   ]
  },
  {
   "cell_type": "code",
   "execution_count": null,
   "metadata": {},
   "outputs": [],
   "source": [
    "def retrieve_dataframe(data_type, device_id, start_time, end_time):\n",
    "    \"\"\"\n",
    "    cursor (string)          : Encoded cursor token (for pagination, from X-Cursor-Next response header)\n",
    "    limit (integer)          : [ 1...10000 ]; Default: 1000\n",
    "    order (string)           : Default: \"asc\". Enum: \"asc\" \"desc\"\n",
    "    temp (string)            : Enum: \"C\" \"F\". Temperature unit in either [C]elsius or [F]ahrenheit\n",
    "    pres (string)            : Enum: \"mb\" \"kp\" Pressure unit in either millibars [mb] or kilopascals [kp]\n",
    "    ratio (string)           : Enum: \"dec\" \"pct\" Ratio either as percent [pct] or decimal value [dec]\n",
    "    size (string)            : Enum: \"in\" \"mm\" Size unit in either [in]ches or millimeters [mm]\n",
    "    speed (string)           : Enum: \"mps\" \"kph\" \"mph\" Speed unit; meters per second [mps], \n",
    "                               kilometers per hour [kph], or miles per hour [mph]\n",
    "    device (string)          : Device name, e.g., A000123 (required if location not specified)\n",
    "    location (string)        : Location ID (required if device not specified)\n",
    "    local_time (string)      : Local time column specified as timezone name, offset seconds or \n",
    "                               ISO format(e.g. America/Los_Angeles, -14400, -10: 30)(optional)\n",
    "    select (Array of strings): Comma-separated column list, e.g., time,device,location,tair\n",
    "    start_time (string)      : Start date/time, e.g., 2019-01-01 or 2019-01-01T00:00:00Z\n",
    "    end_time (string)        : End date/time, e.g., 2019-01-01 or 2019-01-01T00:00:00Z\n",
    "    \"\"\"\n",
    "        \n",
    "    df = client.data(data_type, \n",
    "                     devices = [device_id], \n",
    "                     start_time = start_time,\n",
    "                     end_time = end_time)\n",
    "    \n",
    "    df = df.dropna(axis = 'columns', thresh=2)  # how='all')\n",
    "    \n",
    "    try:\n",
    "        df = df.rename(mapper = data_dictionary[data_type], axis='columns') \n",
    "    except:\n",
    "        pass\n",
    "        \n",
    "    columns_to_remove    = {\"daily\": ['location','time','lat','long'],\n",
    "                            \"hourly\": ['location','time','lat','long'],\n",
    "                            \"aux_raw\": ['location','sdi12_version','sdi12_vendor_id','sdi12_sensor_model','sdi12_sensor_version','sdi12_sensor_sn'],\n",
    "                            \"health\": ['location','time','lat','long'],\n",
    "                            \"local_hourly\": ['location','time','lat','long'], \n",
    "                            \"location_irrigation_forecast_daily\": ['location','time','lat','long'], \n",
    "                            \"sentek_daily\": ['location','time','lat','long'], \n",
    "                            \"sentek_hourly\": ['location','time','lat','long']}\n",
    "    \n",
    "    for i in columns_to_remove[data_type]:\n",
    "        try:                \n",
    "            df = df.drop(i, axis='columns')\n",
    "        except:\n",
    "            pass\n",
    "            \n",
    "    if data_type == \"aux_raw\":\n",
    "        calc_VWC = VWC(df)\n",
    "        df.insert(6, '5TE Calibrated VWC (m^3/m^3)', calc_VWC)\n",
    "    \n",
    "    return df"
   ]
  },
  {
   "cell_type": "code",
   "execution_count": null,
   "metadata": {},
   "outputs": [],
   "source": [
    "device_data = device_data[device_data[\"device_name\"] == \"A000563\"][\"name\"]"
   ]
  },
  {
   "cell_type": "code",
   "execution_count": null,
   "metadata": {},
   "outputs": [],
   "source": [
    "device_data[\"device_name\"]"
   ]
  },
  {
   "cell_type": "code",
   "execution_count": null,
   "metadata": {},
   "outputs": [],
   "source": [
    "daily_data = retrieve_dataframe(\"daily\", \"A000563\", '2020-06-01', '2020-07-01')\n",
    "hourly_data = retrieve_dataframe(\"hourly\", \"A000563\", '2020-06-01', '2020-07-01')"
   ]
  },
  {
   "cell_type": "code",
   "execution_count": null,
   "metadata": {},
   "outputs": [],
   "source": [
    "#hourly_data"
   ]
  },
  {
   "cell_type": "code",
   "execution_count": null,
   "metadata": {},
   "outputs": [],
   "source": [
    "def altair_plot(df, color, dimensions, q, q_name, time):                \n",
    "    df[time] = pd.to_datetime(df[time], infer_datetime_format=True)\n",
    "    device_id = device_data.to_list()[0]\n",
    "    start_date = str(df[time][0]).split()[0]\n",
    "    pd.set_option(\"display.max_rows\", None, \"display.max_columns\", None)\n",
    "    #df = df.fillna(0)\n",
    "    #df = df.replace(np.inf, 0)\n",
    "    df = df.loc[:, q:time] \n",
    "    #print(df)\n",
    "    end_date = str(df[time][len(df[time]) - 1]).split()[0]\n",
    "    base = alt.Chart(df,\n",
    "                     title = f\"{device_id} ({start_date} - {end_date})\"\n",
    "                    ).mark_line(color = color\n",
    "                    ).properties(width  = dimensions[0], \n",
    "                                 height = dimensions[1]\n",
    "                    ).encode(x = alt.X(f'monthdate({time}):O', axis=alt.Axis(title='')),\n",
    "                             y = alt.Y(f\"{q}:Q\", axis=alt.Axis(title=q_name)))\n",
    "    return base\n",
    "                    "
   ]
  },
  {
   "cell_type": "code",
   "execution_count": null,
   "metadata": {},
   "outputs": [],
   "source": [
    "max_temp_hourly = altair_plot(hourly_data, \"cyan\", [300, 300], \"The maximum air temperature experienced during this hour\", \"Max.\", \"UTC time\")\n",
    "min_temp_hourly = altair_plot(hourly_data, \"magenta\", [300, 300], \"The minimum air temperature experienced during this hour\", \"Min.\", \"UTC time\")\n",
    "graph_hourly = alt.layer(max_temp_hourly, min_temp_hourly)\n",
    "graph_hourly"
   ]
  },
  {
   "cell_type": "code",
   "execution_count": null,
   "metadata": {},
   "outputs": [],
   "source": [
    "max_temp_daily = altair_plot(daily_data, \"black\", [300, 300], \"Daily maximum temperature (C)\", \"Max.\", 'Local date')\n",
    "#mean_leaf_ground_temp_daily = altair_plot(daily_data, \"blue\", [800, 200], \"Daily mean leaf/ground temperature (C)\", \"Mean. leaf/ground\", 'Local date')\n",
    "mean_temp_daily = altair_plot(daily_data, \"blue\", [300, 300], \"Daily mean temperature (C)\", \"Mean.\", 'Local date')\n",
    "#dew_temp_daily = altair_plot(daily_data, \"magenta\", [800, 200], \"Dew temperature (C)\", \"Dew\", 'Local date')\n",
    "min_temp_daily = altair_plot(daily_data, \"rebeccapurple\", [300, 300], \"Daily minimum temperature (C)\", \"Min.\", 'Local date')\n",
    "graph_daily = alt.layer(max_temp_daily, mean_temp_daily, min_temp_daily, max_temp_hourly, min_temp_hourly)\n",
    "graph_daily"
   ]
  },
  {
   "cell_type": "code",
   "execution_count": null,
   "metadata": {},
   "outputs": [],
   "source": [
    "\n"
   ]
  }
 ],
 "metadata": {
  "kernelspec": {
   "display_name": "Python 3",
   "language": "python",
   "name": "python3"
  },
  "language_info": {
   "codemirror_mode": {
    "name": "ipython",
    "version": 3
   },
   "file_extension": ".py",
   "mimetype": "text/x-python",
   "name": "python",
   "nbconvert_exporter": "python",
   "pygments_lexer": "ipython3",
   "version": "3.8.2"
  }
 },
 "nbformat": 4,
 "nbformat_minor": 2
}
